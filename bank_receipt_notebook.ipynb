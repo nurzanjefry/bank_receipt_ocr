{
 "cells": [
  {
   "cell_type": "markdown",
   "id": "8e0c5aa0-2ee0-47d1-a16e-df234ae22911",
   "metadata": {},
   "source": [
    "## This notebook is using 3.13 Python"
   ]
  },
  {
   "cell_type": "markdown",
   "id": "17ecf2b5-c12a-404e-9c93-b496ac2f6eed",
   "metadata": {},
   "source": [
    "pip install paddleocr\n",
    "pip install paddlepaddle # if no cpu"
   ]
  },
  {
   "cell_type": "code",
   "execution_count": null,
   "id": "21d37914-9c82-48ce-b1db-e34b68f628a8",
   "metadata": {},
   "outputs": [],
   "source": [
    "from paddleocr import PaddleOCR\n",
    "\n",
    "ocr = PaddleOCR(use_textline_orientation=True, lang='en')\n",
    "img_path = \"converted_image.png\"\n",
    "\n",
    "results = ocr.predict(img_path)\n",
    "\n",
    "structured = {}\n",
    "\n",
    "# Define the keys you care about\n",
    "keys = [\n",
    "    \"Status:\",\n",
    "    \"Reference number:\",\n",
    "    \"Transaction date:\",\n",
    "    \"Amount:\",\n",
    "    \"Beneficiary Name:\",\n",
    "    \"Receiving Bank:\",\n",
    "    \"Beneficiary Account Number:\",\n",
    "    \"Recipient Reference:\"\n",
    "]\n",
    "\n",
    "for res in results:\n",
    "    texts = res['rec_texts']\n",
    "    scores = res['rec_scores']\n",
    "    polys = res['rec_polys']\n",
    "\n",
    "    # Print raw OCR results\n",
    "    for text, score, box in zip(texts, scores, polys):\n",
    "        print(f\"{text} (conf: {score:.2f}) at {box.tolist()}\")\n",
    "\n",
    "    # Build structured dictionary\n",
    "    for i, text in enumerate(texts):\n",
    "        if text in keys and i + 1 < len(texts):\n",
    "            structured[text.replace(\":\", \"\").strip()] = texts[i+1]\n",
    "\n",
    "print(\"\\nStructured output:\")\n",
    "print(structured)\n"
   ]
  }
 ],
 "metadata": {
  "kernelspec": {
   "display_name": "Python 3 (ipykernel)",
   "language": "python",
   "name": "python3"
  },
  "language_info": {
   "codemirror_mode": {
    "name": "ipython",
    "version": 3
   },
   "file_extension": ".py",
   "mimetype": "text/x-python",
   "name": "python",
   "nbconvert_exporter": "python",
   "pygments_lexer": "ipython3",
   "version": "3.13.7"
  }
 },
 "nbformat": 4,
 "nbformat_minor": 5
}
