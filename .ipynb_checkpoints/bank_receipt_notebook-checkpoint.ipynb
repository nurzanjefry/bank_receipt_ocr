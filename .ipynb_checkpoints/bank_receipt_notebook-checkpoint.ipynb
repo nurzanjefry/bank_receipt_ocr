{
 "cells": [
  {
   "cell_type": "markdown",
   "id": "8e0c5aa0-2ee0-47d1-a16e-df234ae22911",
   "metadata": {},
   "source": [
    "## This notebook is using 3.13 Python"
   ]
  },
  {
   "cell_type": "markdown",
   "id": "17ecf2b5-c12a-404e-9c93-b496ac2f6eed",
   "metadata": {},
   "source": [
    "pip install paddleocr\n",
    "pip install paddlepaddle # if no cpu"
   ]
  },
  {
   "cell_type": "code",
   "execution_count": 11,
   "id": "21d37914-9c82-48ce-b1db-e34b68f628a8",
   "metadata": {},
   "outputs": [
    {
     "name": "stderr",
     "output_type": "stream",
     "text": [
      "\u001b[32mCreating model: ('PP-LCNet_x1_0_doc_ori', None)\u001b[0m\n",
      "\u001b[32mModel files already exist. Using cached files. To redownload, please delete the directory manually: `C:\\Users\\nurza\\.paddlex\\official_models\\PP-LCNet_x1_0_doc_ori`.\u001b[0m\n",
      "\u001b[32mCreating model: ('UVDoc', None)\u001b[0m\n",
      "\u001b[32mModel files already exist. Using cached files. To redownload, please delete the directory manually: `C:\\Users\\nurza\\.paddlex\\official_models\\UVDoc`.\u001b[0m\n",
      "\u001b[32mCreating model: ('PP-LCNet_x1_0_textline_ori', None)\u001b[0m\n",
      "\u001b[32mModel files already exist. Using cached files. To redownload, please delete the directory manually: `C:\\Users\\nurza\\.paddlex\\official_models\\PP-LCNet_x1_0_textline_ori`.\u001b[0m\n",
      "\u001b[32mCreating model: ('PP-OCRv5_server_det', None)\u001b[0m\n",
      "\u001b[32mModel files already exist. Using cached files. To redownload, please delete the directory manually: `C:\\Users\\nurza\\.paddlex\\official_models\\PP-OCRv5_server_det`.\u001b[0m\n",
      "\u001b[32mCreating model: ('en_PP-OCRv5_mobile_rec', None)\u001b[0m\n",
      "\u001b[32mModel files already exist. Using cached files. To redownload, please delete the directory manually: `C:\\Users\\nurza\\.paddlex\\official_models\\en_PP-OCRv5_mobile_rec`.\u001b[0m\n"
     ]
    },
    {
     "name": "stdout",
     "output_type": "stream",
     "text": [
      "Maybank (conf: 1.00) at [[40, 8], [159, 8], [159, 36], [40, 36]]\n",
      "Favourite Interbank Transfer (conf: 1.00) at [[0, 65], [220, 68], [220, 85], [0, 82]]\n",
      "Status: (conf: 1.00) at [[0, 99], [41, 101], [40, 116], [0, 114]]\n",
      "Successful (conf: 1.00) at [[235, 100], [296, 102], [296, 117], [235, 115]]\n",
      "Reference number: (conf: 1.00) at [[0, 118], [99, 120], [99, 133], [0, 131]]\n",
      "8729043745 (conf: 1.00) at [[237, 121], [297, 121], [297, 132], [237, 132]]\n",
      "Transaction date: (conf: 1.00) at [[0, 135], [91, 138], [91, 152], [0, 149]]\n",
      "17 Nov 2020 18:20:41 (conf: 0.97) at [[236, 138], [344, 138], [344, 152], [236, 152]]\n",
      "Amount: (conf: 1.00) at [[0, 170], [49, 172], [49, 187], [0, 185]]\n",
      "RM50.00 (conf: 1.00) at [[236, 175], [280, 175], [280, 186], [236, 186]]\n",
      "Beneficiary Name: (conf: 1.00) at [[1, 205], [100, 209], [100, 225], [1, 220]]\n",
      "ADVANCE CELL CORPORATION SDN. BHD. (conf: 0.99) at [[235, 209], [459, 207], [459, 221], [235, 223]]\n",
      "Receiving Bank: (conf: 1.00) at [[1, 222], [89, 227], [89, 241], [1, 236]]\n",
      "CIMB BANK BERHAD (conf: 0.99) at [[235, 225], [347, 226], [347, 241], [235, 239]]\n",
      "Beneficiary Account Number: (conf: 1.00) at [[1, 240], [148, 245], [148, 259], [1, 255]]\n",
      "8600131277 (conf: 1.00) at [[237, 246], [297, 246], [297, 257], [237, 257]]\n",
      "Recipient Reference: (conf: 0.97) at [[0, 257], [112, 262], [112, 276], [0, 272]]\n",
      "rne ventures (conf: 0.99) at [[237, 264], [303, 264], [303, 275], [237, 275]]\n",
      "Other Transfer Details : (conf: 0.96) at [[0, 275], [121, 279], [121, 293], [0, 289]]\n",
      "Note: This receipt is computer generated and no signature is required. (conf: 0.98) at [[0, 309], [359, 314], [359, 332], [0, 326]]\n",
      "Maybank2u (conf: 1.00) at [[2, 344], [78, 344], [78, 361], [2, 361]]\n",
      "Mallayan Banking Berthad (Co. Reg. : 19660100o142)  Maybank Islamic Berhad (Co. Reg.: 200701029411) (conf: 0.94) at [[0, 368], [363, 374], [363, 387], [0, 381]]\n",
      "\n",
      "Structured output:\n",
      "{'Status': 'Successful', 'Reference number': '8729043745', 'Transaction date': '17 Nov 2020 18:20:41', 'Amount': 'RM50.00', 'Beneficiary Name': 'ADVANCE CELL CORPORATION SDN. BHD.', 'Receiving Bank': 'CIMB BANK BERHAD', 'Beneficiary Account Number': '8600131277', 'Recipient Reference': 'rne ventures'}\n"
     ]
    }
   ],
   "source": [
    "from paddleocr import PaddleOCR\n",
    "\n",
    "ocr = PaddleOCR(use_textline_orientation=True, lang='en')\n",
    "img_path = \"converted_image.png\"\n",
    "\n",
    "results = ocr.predict(img_path)\n",
    "\n",
    "structured = {}\n",
    "\n",
    "# Define the keys you care about\n",
    "keys = [\n",
    "    \"Status:\",\n",
    "    \"Reference number:\",\n",
    "    \"Transaction date:\",\n",
    "    \"Amount:\",\n",
    "    \"Beneficiary Name:\",\n",
    "    \"Receiving Bank:\",\n",
    "    \"Beneficiary Account Number:\",\n",
    "    \"Recipient Reference:\"\n",
    "]\n",
    "\n",
    "for res in results:\n",
    "    texts = res['rec_texts']\n",
    "    scores = res['rec_scores']\n",
    "    polys = res['rec_polys']\n",
    "\n",
    "    # Print raw OCR results\n",
    "    for text, score, box in zip(texts, scores, polys):\n",
    "        print(f\"{text} (conf: {score:.2f}) at {box.tolist()}\")\n",
    "\n",
    "    # Build structured dictionary\n",
    "    for i, text in enumerate(texts):\n",
    "        if text in keys and i + 1 < len(texts):\n",
    "            structured[text.replace(\":\", \"\").strip()] = texts[i+1]\n",
    "\n",
    "print(\"\\nStructured output:\")\n",
    "print(structured)\n"
   ]
  }
 ],
 "metadata": {
  "kernelspec": {
   "display_name": "Python 3 (ipykernel)",
   "language": "python",
   "name": "python3"
  },
  "language_info": {
   "codemirror_mode": {
    "name": "ipython",
    "version": 3
   },
   "file_extension": ".py",
   "mimetype": "text/x-python",
   "name": "python",
   "nbconvert_exporter": "python",
   "pygments_lexer": "ipython3",
   "version": "3.13.7"
  }
 },
 "nbformat": 4,
 "nbformat_minor": 5
}
